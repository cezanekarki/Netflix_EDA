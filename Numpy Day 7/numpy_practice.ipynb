{
 "cells": [
  {
   "cell_type": "code",
   "execution_count": 6,
   "metadata": {},
   "outputs": [],
   "source": [
    "import numpy as np"
   ]
  },
  {
   "cell_type": "code",
   "execution_count": 7,
   "metadata": {},
   "outputs": [
    {
     "data": {
      "text/plain": [
       "array([1, 2, 3])"
      ]
     },
     "execution_count": 7,
     "metadata": {},
     "output_type": "execute_result"
    }
   ],
   "source": [
    "#creating a single dimensional numpy array.\n",
    "#Single dimensional array is created using a single list.\n",
    "\n",
    "array_numpy = np.array([1,2,3])\n",
    "array_numpy"
   ]
  },
  {
   "cell_type": "code",
   "execution_count": 8,
   "metadata": {},
   "outputs": [
    {
     "data": {
      "text/plain": [
       "array([[1, 2, 3],\n",
       "       [2, 3, 4]])"
      ]
     },
     "execution_count": 8,
     "metadata": {},
     "output_type": "execute_result"
    }
   ],
   "source": [
    "# multidimensional array \n",
    "# Multi-Dimnesional Array is created using multiple tuple inside a list.\n",
    "\n",
    "multi_array = np.array([(1,2,3),(2,3,4)])\n",
    "multi_array"
   ]
  },
  {
   "cell_type": "code",
   "execution_count": 9,
   "metadata": {},
   "outputs": [
    {
     "name": "stdout",
     "output_type": "stream",
     "text": [
      "Size of single element of list in bytes is 24\n",
      "Size of list is 8856000\n",
      "Size of single element of numpy in bytes is 8\n",
      "Size of numpy is 8000\n",
      "List results time taken is 5.291938781738281 miliseconds\n",
      "Numpy Array results time taken is 0.0006568431854248047 miliseconds\n"
     ]
    }
   ],
   "source": [
    "#distinguising between list and numpy array\n",
    "# checking the memory consumption of list and array of the same size\n",
    "\n",
    "import time\n",
    "import sys\n",
    "lst = [x for x in range(1000)]\n",
    "print(f\"Size of single element of list in bytes is {sys.getsizeof(lst[0])}\")\n",
    "print(f\"Size of list is {sys.getsizeof(lst)*len(lst)}\")\n",
    "numpy_array  = np.random.rand(1000)\n",
    "print(f\"Size of single element of numpy in bytes is {(numpy_array.itemsize)}\")\n",
    "print(f\"Size of numpy is {(numpy_array.itemsize*numpy_array.size)}\")\n",
    "\n",
    "#time comparision\n",
    "lst2 = [x for x in range(100000)]\n",
    "numpy_array2 = np.random.rand(100000)\n",
    "lst3 = [x for x in range(100000)]\n",
    "numpy_array3 = np.random.rand(100000)\n",
    "\n",
    "\n",
    "initial_time = time.time()\n",
    "\n",
    "list_result = [(a*b) for a,b in zip(lst3,lst2)]\n",
    "print(f\"List results time taken is {(time.time() - initial_time)*1000} miliseconds\")\n",
    "\n",
    "\n",
    "time.sleep(3)\n",
    "\n",
    "new_time  = time.time()\n",
    "array_result = numpy_array3 * numpy_array2\n",
    "print(f\"Numpy Array results time taken is {(time.time() - new_time)} miliseconds\")\n",
    "\n",
    "\n",
    "\n",
    "\n",
    "#Therefore the list consumes more memory than the numpy and for the larger datasets the operation of list would be comparatively slower\n",
    "#than the performance of the numpy array"
   ]
  },
  {
   "cell_type": "code",
   "execution_count": 10,
   "metadata": {},
   "outputs": [
    {
     "name": "stdout",
     "output_type": "stream",
     "text": [
      "List = [1, 2, 6, 4, 9, 34, 77, 3, 6]\n",
      "Array = [ 1  2  6  4  9 34 77  3  6]\n",
      "Array1 = [ 1  2 99  4  9 34 77  3  6]\n",
      "Array2 = [ 1  2 99  4  9 34 77  3  6]\n",
      "Array3 = [ 1  2  6  4  9 34 77  3  6]\n"
     ]
    }
   ],
   "source": [
    "#converting list to numpy arrays\n",
    "\n",
    "lst = [x for x in range(0,100)]\n",
    "arr = np.array(lst)\n",
    "\n",
    "\n",
    "#converting list to array using asarray\n",
    "lst2 = [1,2,6,4,9,34,77,3,6]\n",
    "arr2 = np.asarray(lst2)\n",
    "print(f\"List = {lst2}\")\n",
    "print(f\"Array = {arr2}\")\n",
    "\n",
    "arr3 = np.asarray(arr2)\n",
    "arr4 = np.array(arr2)\n",
    "arr3[2] = 99\n",
    "\n",
    "print(f\"Array1 = {arr2}\")\n",
    "print(f\"Array2 = {arr3}\")\n",
    "print(f\"Array3 = {arr4}\")\n",
    "\n",
    "#difference between asarray and array is that array will make the copy of the original object and asarray will mirror the original object\n",
    "#which take changes in the array when the original array is updated"
   ]
  },
  {
   "cell_type": "code",
   "execution_count": 11,
   "metadata": {},
   "outputs": [
    {
     "name": "stdout",
     "output_type": "stream",
     "text": [
      "First slicing = 2\n",
      "Second slicing = [[1 2]\n",
      " [2 5]\n",
      " [4 3]\n",
      " [1 0]]\n",
      "Third slicing = [[1 3 5]\n",
      " [2 4 5]\n",
      " [4 2 3]\n",
      " [1 8 5]]\n"
     ]
    }
   ],
   "source": [
    "#accessing the array index\n",
    "\n",
    "arr = np.array([[1,2,3,4,5],\n",
    "                [2,5,4,3,5],\n",
    "                [4,3,2,5,3],\n",
    "                [1,0,8,6,5]])\n",
    "\n",
    "#get 2 from the 3rd row\n",
    "\n",
    "sliced_array = arr[2,2]\n",
    "print(f\"First slicing = {sliced_array}\")\n",
    "\n",
    "#get first 2 elements of 1,2,3,4 rows\n",
    "sliced_array2 = arr[:,:2]\n",
    "print(f\"Second slicing = {sliced_array2}\")\n",
    "\n",
    "#array with all rows and alternate columns\n",
    "sliced_array3 = arr[:,::2]\n",
    "print(f\"Third slicing = {sliced_array3}\")\n"
   ]
  },
  {
   "cell_type": "code",
   "execution_count": 12,
   "metadata": {},
   "outputs": [
    {
     "name": "stdout",
     "output_type": "stream",
     "text": [
      "41\n",
      "0.0017448032332837426\n",
      "[94 78 84 68 83 67 75 88 85 81 57 60 77 70 70 73 66 71 64 63 65 67 83 56\n",
      " 91 87 63 92 61 64 57 73 64 60 90 90 70 90 71 62 85 73 75 98 79 75 61 81\n",
      " 95 96 56 64 96 56 62 95 92 61 94 89 69 85 90 87 93 81 98 62 72 73 65 86\n",
      " 57 61 76 67 91 69 87 74 60 58 88 71 85 74 83 61 59 64 59 73 70 92 59 89\n",
      " 86 70 69 99]\n",
      "[0.38755374 0.71108159 0.92935369 0.28960394 0.71005893 0.44835985\n",
      " 0.290646   0.01398243 0.26964582 0.96710768 0.20000233 0.48850483\n",
      " 0.99732091 0.81330986 0.06232822 0.77095847 0.37147996 0.46303831\n",
      " 0.72107749 0.74388433 0.26114372 0.94867944]\n",
      "[[0.38807369 0.97321803 0.24668994 0.45326766 0.4919663 ]\n",
      " [0.38246879 0.6338629  0.16613058 0.74032736 0.91825977]\n",
      " [0.6006626  0.80578281 0.0158611  0.14522871 0.34044119]]\n",
      "6\n",
      "[[8 3 4]\n",
      " [4 3 1]]\n",
      "Dimensions of the array\n",
      "2\n",
      "1\n",
      "3\n"
     ]
    }
   ],
   "source": [
    "#creating random array\n",
    "\n",
    "#generate random integer from 0-100\n",
    "random_int = np.random.randint(0,100)\n",
    "print(random_int)\n",
    "\n",
    "random_float = np.random.rand()\n",
    "print(random_float)\n",
    "\n",
    "random_array_int = np.random.randint(55,100,size=(100))\n",
    "print(random_array_int)\n",
    "\n",
    "random_array_float = np.random.rand(22)\n",
    "print(random_array_float)\n",
    "\n",
    "#create random 2d arrays\n",
    "\n",
    "# 3 rows, 5 columns\n",
    "random_2d = np.random.rand(3,5)\n",
    "print(random_2d)\n",
    "\n",
    "#generate random number from array\n",
    "arr = [1,6,4,6,8,4,3,6]\n",
    "\n",
    "arr_random = np.random.choice(arr)\n",
    "print(arr_random)\n",
    "\n",
    "arr_random2 = np.random.choice(arr,size=(2,3))\n",
    "print(arr_random2)\n",
    "\n",
    "#checking th dimensions of the array\n",
    "print(\"Dimensions of the array\")\n",
    "print(arr_random2.ndim)\n",
    "print(random_array_float.ndim)\n",
    "\n",
    "d = np.array([[[1, 2, 3], [4, 5, 6]], [[1, 2, 3], [4, 5, 6]]])\n",
    "print(d.ndim)"
   ]
  },
  {
   "cell_type": "code",
   "execution_count": 96,
   "metadata": {},
   "outputs": [
    {
     "name": "stdout",
     "output_type": "stream",
     "text": [
      "1st Array dtype = <U6\n",
      "Data type of 2nd array = float64\n",
      "Data type of 3rd array = bool\n",
      "Data type of 4th array = int64\n"
     ]
    }
   ],
   "source": [
    "#data types in numpy array\n",
    "import numpy as np\n",
    "\n",
    "arr = np.array(['apple', 'banana', 'cherry'])\n",
    "\n",
    "print(f\"1st Array dtype = {arr.dtype}\")\n",
    "\n",
    "arr2 = np.array([0.234,1,66,0.0092])\n",
    "print(f\"Data type of 2nd array = {arr2.dtype}\")\n",
    "\n",
    "arr3 = np.array([True,False,True,False])\n",
    "print(f\"Data type of 3rd array = {arr3.dtype}\")\n",
    "\n",
    "arr4 = np.array([1,2,3,4,5,6])\n",
    "print(f\"Data type of 4th array = {arr4.dtype}\")\n",
    "\n"
   ]
  },
  {
   "cell_type": "code",
   "execution_count": 98,
   "metadata": {},
   "outputs": [
    {
     "name": "stdout",
     "output_type": "stream",
     "text": [
      "Original Array [ 1  2 99  4  5  6  7  8  9]\n",
      "Copied Array [1 2 3 4 5 6 7 8 9]\n",
      "View Array [ 1  2 99  4  5  6  7  8  9]\n"
     ]
    }
   ],
   "source": [
    "#copy vs view in numpy\n",
    "\n",
    "arr1  = np.array([1,2,3,4,5,6,7,8,9])\n",
    "arr2 = arr1.copy()\n",
    "arr3 = arr1.view()\n",
    "\n",
    "arr1[2]=99\n",
    "print(f\"Original Array {arr1}\")\n",
    "print(f\"Copied Array {arr2}\")\n",
    "print(f\"View Array {arr3}\")\n",
    "\n",
    "#Therefore copy just makes the copy of the array but view mirrors the array and it's operations as well"
   ]
  },
  {
   "cell_type": "code",
   "execution_count": 13,
   "metadata": {},
   "outputs": [
    {
     "name": "stdout",
     "output_type": "stream",
     "text": [
      "[[1 2 3]\n",
      " [4 5 6]\n",
      " [7 8 9]]\n",
      "[[ 1  2  3]\n",
      " [ 4  5  6]\n",
      " [ 7  8  9]\n",
      " [10 11 12]]\n",
      "[[ 1  2  3  4]\n",
      " [ 5  6  7  8]\n",
      " [ 9 10 11 12]]\n",
      "(3, 4)\n"
     ]
    }
   ],
   "source": [
    "#reshape array\n",
    "arr1 = np.array([1,2,3,4,5,6,7,8,9])\n",
    "new_arr = arr1.reshape(3,3)\n",
    "print(new_arr)\n",
    "\n",
    "arr2 = np.array([1,2,3,4,5,6,7,8,9,10,11,12])\n",
    "new_arr2 = arr2.reshape(4,3)\n",
    "new_arr3 = arr2.reshape(3,4)\n",
    "print(new_arr2)\n",
    "print(new_arr3)\n",
    "print(new_arr3.shape)"
   ]
  },
  {
   "cell_type": "code",
   "execution_count": 190,
   "metadata": {},
   "outputs": [
    {
     "name": "stdout",
     "output_type": "stream",
     "text": [
      "(array([0, 1, 1, 1]), array([4, 1, 2, 3]))\n",
      "(array([0, 1, 1]), array([2, 4, 5]))\n"
     ]
    }
   ],
   "source": [
    "#search in array\n",
    "arr = np.array([[11,25,65,76,88,9],\n",
    "                [44,88,88,88,65,65]])\n",
    "print(np.where(arr == 88))\n",
    "print(np.where(arr==65))"
   ]
  },
  {
   "cell_type": "code",
   "execution_count": 118,
   "metadata": {},
   "outputs": [
    {
     "name": "stdout",
     "output_type": "stream",
     "text": [
      "[[ 9 11 25 65 76 88]\n",
      " [44 65 65 88 88 88]]\n",
      "['AAAAA' 'BANANA' 'Cherry' 'Zebra' 'aaaaa' 'apple']\n",
      "[0.04455239 0.0704944  0.12109692 0.25133056 0.26706812 0.27420094\n",
      " 0.32012698 0.35232696 0.3691892  0.39424254 0.39969782 0.45172447\n",
      " 0.47798159 0.54361659 0.58306767 0.6472159  0.68901842 0.71596428\n",
      " 0.84594049 0.88117402 0.96337652 0.98536721]\n",
      "[[False  True  True  True  True  True False]\n",
      " [False False False  True False  True  True]\n",
      " [ True False  True  True False  True  True]\n",
      " [ True False False  True  True False False]]\n",
      "[[False False  True  True  True  True  True]\n",
      " [False False False False  True  True  True]\n",
      " [False False  True  True  True  True  True]\n",
      " [False False False False  True  True  True]]\n"
     ]
    }
   ],
   "source": [
    "#sorting in array\n",
    "arr = np.array([[11,25,65,76,88,9],\n",
    "                [44,88,88,88,65,65]])\n",
    "x = np.sort(arr)\n",
    "print(x)\n",
    "\n",
    "arr1 = np.array([\"Cherry\",\"apple\",\"BANANA\",\"Zebra\",\"AAAAA\",\"aaaaa\"])\n",
    "print(np.sort(arr1))\n",
    "\n",
    "arr2 = np.random.rand(22)\n",
    "print(np.sort(arr2))\n",
    "\n",
    "arr3 = np.random.choice(a=[True,False],size=(4,7))\n",
    "print(arr3)\n",
    "print(np.sort(arr3))"
   ]
  },
  {
   "cell_type": "code",
   "execution_count": 14,
   "metadata": {},
   "outputs": [
    {
     "name": "stdout",
     "output_type": "stream",
     "text": [
      "[[0 0 0 0]\n",
      " [0 0 0 0]]\n",
      "[[0. 0. 0. 0.]\n",
      " [0. 0. 0. 0.]]\n",
      "[[(0., 0) (0., 0) (0., 0) (0., 0)]\n",
      " [(0., 0) (0., 0) (0., 0) (0., 0)]]\n"
     ]
    }
   ],
   "source": [
    "#numpy zeros\n",
    "arr = np.zeros((2,4),dtype=int)\n",
    "print(arr)\n",
    "\n",
    "arr2 = np.zeros((2,4),dtype=float)\n",
    "print(arr2)\n",
    "\n",
    "arr3 = np.zeros((2,4),dtype=[('x','float'),('y','int')])\n",
    "print(arr3)"
   ]
  },
  {
   "cell_type": "code",
   "execution_count": 126,
   "metadata": {},
   "outputs": [
    {
     "name": "stdout",
     "output_type": "stream",
     "text": [
      "[[1. 1. 1. 1.]\n",
      " [1. 1. 1. 1.]]\n",
      "[[1 1 1 1]\n",
      " [1 1 1 1]]\n",
      "[[(1., 1) (1., 1) (1., 1) (1., 1)]\n",
      " [(1., 1) (1., 1) (1., 1) (1., 1)]]\n"
     ]
    }
   ],
   "source": [
    "#numpy ones\n",
    "arr = np.ones((2,4),dtype=float)\n",
    "print(arr)\n",
    "arr1 = np.ones((2,4),dtype=int)\n",
    "print(arr1)\n",
    "arr3 = np.ones((2,4),dtype=[('x','float'),('y','int')])\n",
    "print(arr3)"
   ]
  },
  {
   "cell_type": "code",
   "execution_count": 140,
   "metadata": {},
   "outputs": [
    {
     "name": "stdout",
     "output_type": "stream",
     "text": [
      "[[1. 1. 1.]\n",
      " [1. 1. 1.]\n",
      " [1. 1. 1.]]\n",
      "\n",
      "second array\n",
      "\n",
      "[[1. 1. 1.]\n",
      " [1. 1. 1.]\n",
      " [1. 1. 1.]]\n"
     ]
    }
   ],
   "source": [
    "#numpy fill\n",
    "arr = np.empty((3,3))\n",
    "\n",
    "\n",
    "#using for loop\n",
    "for i in range(len(arr)):\n",
    "    for j in range(len(arr)):\n",
    "        arr[i][j]=1\n",
    "\n",
    "print(arr)\n",
    "print(\"\\nsecond array\\n\")\n",
    "arr1 = np.empty((3,3))\n",
    "arr1.fill(1)\n",
    "print(arr1)"
   ]
  },
  {
   "cell_type": "code",
   "execution_count": 159,
   "metadata": {},
   "outputs": [
    {
     "name": "stdout",
     "output_type": "stream",
     "text": [
      "[0.72298066 0.93988339 0.89411527 0.51031352 0.14473385 0.30368166\n",
      " 0.7260526  0.04432156 0.33631657 0.55166805 0.9405161  0.80682563\n",
      " 0.49258444 0.58773357 0.27918842 0.01008206 0.22632039 0.24881314\n",
      " 0.42017    0.24799395 0.71687433 0.92434377 0.37578859 0.67693661\n",
      " 0.61678814 0.26696419 0.11963739 0.49507055 0.62908825 0.46989442\n",
      " 0.52061117 0.92357512 0.77058117 0.39647921 0.77771491 0.99054047\n",
      " 0.74601372 0.702142   0.01885636 0.90431824 0.87579695 0.25881491\n",
      " 0.8462786  0.93498357 0.23439522 0.73379737 0.46611947 0.12945275\n",
      " 0.67810334 0.01615384 0.42164966 0.12042419 0.94039726 0.2216709\n",
      " 0.55219178 0.78631226 0.76015326 0.60243953 0.10426947 0.06805272\n",
      " 0.68200606 0.04195613 0.35868199 0.90269818 0.81465366 0.93448298\n",
      " 0.24573323 0.41686395 0.39436598 0.2968848  0.1498334  0.4911055\n",
      " 0.43333343 0.03057222 0.94357019 0.79339561 0.96032418 0.97918002\n",
      " 0.6792027  0.68371958 0.76791439 0.53061593 0.75946275 0.79923703\n",
      " 0.96758725 0.94737234 0.75030951 0.14651599 0.47601396 0.70395714\n",
      " 0.78905128 0.5236921  0.77629636 0.43182582 0.14292188 0.09531066\n",
      " 0.43693253 0.1695113  0.93194124 0.23865179]\n"
     ]
    }
   ],
   "source": [
    "#saving files in numpy\n",
    "data = np.random.rand(100)\n",
    "print(data)\n",
    "np.save('data.npy', data)\n"
   ]
  },
  {
   "cell_type": "code",
   "execution_count": 160,
   "metadata": {},
   "outputs": [
    {
     "name": "stdout",
     "output_type": "stream",
     "text": [
      "[0.72298066 0.93988339 0.89411527 0.51031352 0.14473385 0.30368166\n",
      " 0.7260526  0.04432156 0.33631657 0.55166805 0.9405161  0.80682563\n",
      " 0.49258444 0.58773357 0.27918842 0.01008206 0.22632039 0.24881314\n",
      " 0.42017    0.24799395 0.71687433 0.92434377 0.37578859 0.67693661\n",
      " 0.61678814 0.26696419 0.11963739 0.49507055 0.62908825 0.46989442\n",
      " 0.52061117 0.92357512 0.77058117 0.39647921 0.77771491 0.99054047\n",
      " 0.74601372 0.702142   0.01885636 0.90431824 0.87579695 0.25881491\n",
      " 0.8462786  0.93498357 0.23439522 0.73379737 0.46611947 0.12945275\n",
      " 0.67810334 0.01615384 0.42164966 0.12042419 0.94039726 0.2216709\n",
      " 0.55219178 0.78631226 0.76015326 0.60243953 0.10426947 0.06805272\n",
      " 0.68200606 0.04195613 0.35868199 0.90269818 0.81465366 0.93448298\n",
      " 0.24573323 0.41686395 0.39436598 0.2968848  0.1498334  0.4911055\n",
      " 0.43333343 0.03057222 0.94357019 0.79339561 0.96032418 0.97918002\n",
      " 0.6792027  0.68371958 0.76791439 0.53061593 0.75946275 0.79923703\n",
      " 0.96758725 0.94737234 0.75030951 0.14651599 0.47601396 0.70395714\n",
      " 0.78905128 0.5236921  0.77629636 0.43182582 0.14292188 0.09531066\n",
      " 0.43693253 0.1695113  0.93194124 0.23865179]\n"
     ]
    }
   ],
   "source": [
    "#loading numpy data\n",
    "#numpy is able to load the pickle file as well\n",
    "data = np.load(\"data.npy\")\n",
    "print(data)"
   ]
  },
  {
   "cell_type": "code",
   "execution_count": 59,
   "metadata": {},
   "outputs": [
    {
     "name": "stdout",
     "output_type": "stream",
     "text": [
      "Vertical Stacking = [[1 2 3]\n",
      " [4 5 6]\n",
      " [0 2 4]\n",
      " [1 3 5]]\n",
      "Horizontal Stacking = [[1 2 3 0 2 4]\n",
      " [4 5 6 1 3 5]]\n",
      "column Stacking = [[1 2 3 1]\n",
      " [4 5 6 2]]\n",
      "Row concatenation = [[1 2 3]\n",
      " [4 5 6]\n",
      " [0 2 4]\n",
      " [1 3 5]]\n",
      "Column concatenation = [[1 2 3 0 2 4]\n",
      " [4 5 6 1 3 5]]\n"
     ]
    }
   ],
   "source": [
    "#Stacking in numpy array\n",
    "\n",
    "a = np.array([[1,2,3],[4,5,6]])\n",
    "b = np.array([[0,2,4],[1,3,5]])\n",
    "\n",
    "#Vertical Stacking\n",
    "\n",
    "c = np.vstack((a,b))\n",
    "print(f\"Vertical Stacking = {c}\")\n",
    "\n",
    "#horizontal stacking\n",
    "\n",
    "d= np.hstack((a,b))\n",
    "print(f\"Horizontal Stacking = {d}\")\n",
    "\n",
    "#column stackin\n",
    "f = [1,2]\n",
    "e = np.column_stack((a,f))\n",
    "print(f\"column Stacking = {e}\")\n",
    "\n",
    "#concatinating array\n",
    "g = np.concatenate((a,b),axis=0)\n",
    "h = np.concatenate((a,b),axis=1)\n",
    "\n",
    "print(f\"Row concatenation = {g}\")\n",
    "print(f\"Column concatenation = {h}\")"
   ]
  },
  {
   "cell_type": "code",
   "execution_count": 70,
   "metadata": {},
   "outputs": [
    {
     "name": "stdout",
     "output_type": "stream",
     "text": [
      "Horizontal spliting = [array([[1, 3],\n",
      "       [2, 4]]), array([[5, 7],\n",
      "       [6, 8]]), array([[ 9, 11],\n",
      "       [10, 12]])]\n",
      "Vertical Spliting = [array([[ 1,  3,  5,  7,  9, 11]]), array([[ 2,  4,  6,  8, 10, 12]])]\n"
     ]
    }
   ],
   "source": [
    "#array splitting\n",
    "\n",
    "a = np.array([[1, 3, 5, 7, 9, 11],\n",
    "              [2, 4, 6, 8, 10, 12]])\n",
    "hor_axis = np.hsplit(a,3)\n",
    "print(f\"Horizontal spliting = {hor_axis}\")\n",
    "\n",
    "ver_axis = np.vsplit(a,2)\n",
    "print(f\"Vertical Spliting = {ver_axis}\")"
   ]
  },
  {
   "cell_type": "code",
   "execution_count": 177,
   "metadata": {},
   "outputs": [
    {
     "name": "stdout",
     "output_type": "stream",
     "text": [
      "    Objects Count\n",
      "1     apple     2\n",
      "2    banana     6\n",
      "3       cat     8\n",
      "4  elephant     6\n"
     ]
    }
   ],
   "source": [
    "#creating the numpy array into dataframe\n",
    "import pandas as pd\n",
    "a = np.array([[\"apple\",\"2\"],[\"banana\",\"6\"],[\"cat\",\"8\"],[\"elephant\",\"6\"]])\n",
    "c = pd.DataFrame(a,columns=[\"Objects\",\"Count\"],index=range(1,5))\n",
    "print(c)\n",
    "\n"
   ]
  },
  {
   "cell_type": "code",
   "execution_count": 179,
   "metadata": {},
   "outputs": [
    {
     "name": "stdout",
     "output_type": "stream",
     "text": [
      "           Name Graduation Year\n",
      "1  Cezane Karki            2021\n",
      "2  Pratik Thapa            2020\n",
      "3  Arjan Poudel            2022\n"
     ]
    }
   ],
   "source": [
    "#creating the numpy array into dataframe\n",
    "import pandas as pd\n",
    "a = np.array([(\"Cezane Karki\",\"2021\"),(\"Pratik Thapa\",\"2020\"),(\"Arjan Poudel\",\"2022\")])\n",
    "b= pd.DataFrame(a,columns=[\"Name\",\"Graduation Year\"], index= range(1,4))\n",
    "print(b)\n",
    "\n"
   ]
  },
  {
   "cell_type": "code",
   "execution_count": 4,
   "metadata": {},
   "outputs": [
    {
     "ename": "ValueError",
     "evalue": "Wrong number of columns at line 92",
     "output_type": "error",
     "traceback": [
      "\u001b[0;31m---------------------------------------------------------------------------\u001b[0m",
      "\u001b[0;31mValueError\u001b[0m                                Traceback (most recent call last)",
      "\u001b[1;32m/Users/enazec/Documents/US Healthcare Engineering/Python Class/Numpy Day 7/numpy_practice.ipynb Cell 22\u001b[0m in \u001b[0;36m<cell line: 2>\u001b[0;34m()\u001b[0m\n\u001b[1;32m      <a href='vscode-notebook-cell:/Users/enazec/Documents/US%20Healthcare%20Engineering/Python%20Class/Numpy%20Day%207/numpy_practice.ipynb#X30sZmlsZQ%3D%3D?line=0'>1</a>\u001b[0m \u001b[39mimport\u001b[39;00m \u001b[39mnumpy\u001b[39;00m \u001b[39mas\u001b[39;00m \u001b[39mnp\u001b[39;00m \n\u001b[0;32m----> <a href='vscode-notebook-cell:/Users/enazec/Documents/US%20Healthcare%20Engineering/Python%20Class/Numpy%20Day%207/numpy_practice.ipynb#X30sZmlsZQ%3D%3D?line=1'>2</a>\u001b[0m data \u001b[39m=\u001b[39m np\u001b[39m.\u001b[39;49mloadtxt(\u001b[39m\"\u001b[39;49m\u001b[39m../Day 6 Pandas/try_data.csv\u001b[39;49m\u001b[39m\"\u001b[39;49m, delimiter \u001b[39m=\u001b[39;49m\u001b[39m\"\u001b[39;49m\u001b[39m,\u001b[39;49m\u001b[39m\"\u001b[39;49m,dtype\u001b[39m=\u001b[39;49m\u001b[39mstr\u001b[39;49m)\n\u001b[1;32m      <a href='vscode-notebook-cell:/Users/enazec/Documents/US%20Healthcare%20Engineering/Python%20Class/Numpy%20Day%207/numpy_practice.ipynb#X30sZmlsZQ%3D%3D?line=2'>3</a>\u001b[0m data\n",
      "File \u001b[0;32m~/opt/anaconda3/lib/python3.9/site-packages/numpy/lib/npyio.py:1148\u001b[0m, in \u001b[0;36mloadtxt\u001b[0;34m(fname, dtype, comments, delimiter, converters, skiprows, usecols, unpack, ndmin, encoding, max_rows, like)\u001b[0m\n\u001b[1;32m   1143\u001b[0m \u001b[39m# read data in chunks and fill it into an array via resize\u001b[39;00m\n\u001b[1;32m   1144\u001b[0m \u001b[39m# over-allocating and shrinking the array later may be faster but is\u001b[39;00m\n\u001b[1;32m   1145\u001b[0m \u001b[39m# probably not relevant compared to the cost of actually reading and\u001b[39;00m\n\u001b[1;32m   1146\u001b[0m \u001b[39m# converting the data\u001b[39;00m\n\u001b[1;32m   1147\u001b[0m X \u001b[39m=\u001b[39m \u001b[39mNone\u001b[39;00m\n\u001b[0;32m-> 1148\u001b[0m \u001b[39mfor\u001b[39;00m x \u001b[39min\u001b[39;00m read_data(_loadtxt_chunksize):\n\u001b[1;32m   1149\u001b[0m     \u001b[39mif\u001b[39;00m X \u001b[39mis\u001b[39;00m \u001b[39mNone\u001b[39;00m:\n\u001b[1;32m   1150\u001b[0m         X \u001b[39m=\u001b[39m np\u001b[39m.\u001b[39marray(x, dtype)\n",
      "File \u001b[0;32m~/opt/anaconda3/lib/python3.9/site-packages/numpy/lib/npyio.py:995\u001b[0m, in \u001b[0;36mloadtxt.<locals>.read_data\u001b[0;34m(chunk_size)\u001b[0m\n\u001b[1;32m    993\u001b[0m \u001b[39mif\u001b[39;00m \u001b[39mlen\u001b[39m(vals) \u001b[39m!=\u001b[39m N:\n\u001b[1;32m    994\u001b[0m     line_num \u001b[39m=\u001b[39m i \u001b[39m+\u001b[39m skiprows \u001b[39m+\u001b[39m \u001b[39m1\u001b[39m\n\u001b[0;32m--> 995\u001b[0m     \u001b[39mraise\u001b[39;00m \u001b[39mValueError\u001b[39;00m(\u001b[39m\"\u001b[39m\u001b[39mWrong number of columns at line \u001b[39m\u001b[39m%d\u001b[39;00m\u001b[39m\"\u001b[39m\n\u001b[1;32m    996\u001b[0m                      \u001b[39m%\u001b[39m line_num)\n\u001b[1;32m    998\u001b[0m \u001b[39m# Convert each value according to its column and store\u001b[39;00m\n\u001b[1;32m    999\u001b[0m items \u001b[39m=\u001b[39m [conv(val) \u001b[39mfor\u001b[39;00m (conv, val) \u001b[39min\u001b[39;00m \u001b[39mzip\u001b[39m(converters, vals)]\n",
      "\u001b[0;31mValueError\u001b[0m: Wrong number of columns at line 92"
     ]
    }
   ],
   "source": [
    "import numpy as np \n",
    "data = np.loadtxt(\"../Day 6 Pandas/try_data.csv\", delimiter =\",\",dtype=str)\n",
    "data"
   ]
  },
  {
   "cell_type": "code",
   "execution_count": 5,
   "metadata": {},
   "outputs": [
    {
     "ename": "ValueError",
     "evalue": "Some errors were detected !\n    Line #92 (got 5 columns instead of 4)\n    Line #199 (got 5 columns instead of 4)\n    Line #585 (got 5 columns instead of 4)\n    Line #905 (got 5 columns instead of 4)",
     "output_type": "error",
     "traceback": [
      "\u001b[0;31m---------------------------------------------------------------------------\u001b[0m",
      "\u001b[0;31mValueError\u001b[0m                                Traceback (most recent call last)",
      "\u001b[1;32m/Users/enazec/Documents/US Healthcare Engineering/Python Class/Numpy Day 7/numpy_practice.ipynb Cell 23\u001b[0m in \u001b[0;36m<cell line: 2>\u001b[0;34m()\u001b[0m\n\u001b[1;32m      <a href='vscode-notebook-cell:/Users/enazec/Documents/US%20Healthcare%20Engineering/Python%20Class/Numpy%20Day%207/numpy_practice.ipynb#X31sZmlsZQ%3D%3D?line=0'>1</a>\u001b[0m \u001b[39mimport\u001b[39;00m \u001b[39mnumpy\u001b[39;00m \u001b[39mas\u001b[39;00m \u001b[39mnp\u001b[39;00m \n\u001b[0;32m----> <a href='vscode-notebook-cell:/Users/enazec/Documents/US%20Healthcare%20Engineering/Python%20Class/Numpy%20Day%207/numpy_practice.ipynb#X31sZmlsZQ%3D%3D?line=1'>2</a>\u001b[0m data \u001b[39m=\u001b[39m np\u001b[39m.\u001b[39;49mgenfromtxt(\u001b[39m\"\u001b[39;49m\u001b[39m../Day 6 Pandas/try_data.csv\u001b[39;49m\u001b[39m\"\u001b[39;49m, delimiter \u001b[39m=\u001b[39;49m\u001b[39m\"\u001b[39;49m\u001b[39m,\u001b[39;49m\u001b[39m\"\u001b[39;49m,dtype\u001b[39m=\u001b[39;49m\u001b[39mstr\u001b[39;49m)\n\u001b[1;32m      <a href='vscode-notebook-cell:/Users/enazec/Documents/US%20Healthcare%20Engineering/Python%20Class/Numpy%20Day%207/numpy_practice.ipynb#X31sZmlsZQ%3D%3D?line=2'>3</a>\u001b[0m data\n",
      "File \u001b[0;32m~/opt/anaconda3/lib/python3.9/site-packages/numpy/lib/npyio.py:2124\u001b[0m, in \u001b[0;36mgenfromtxt\u001b[0;34m(fname, dtype, comments, delimiter, skip_header, skip_footer, converters, missing_values, filling_values, usecols, names, excludelist, deletechars, replace_space, autostrip, case_sensitive, defaultfmt, unpack, usemask, loose, invalid_raise, max_rows, encoding, like)\u001b[0m\n\u001b[1;32m   2122\u001b[0m \u001b[39m# Raise an exception ?\u001b[39;00m\n\u001b[1;32m   2123\u001b[0m \u001b[39mif\u001b[39;00m invalid_raise:\n\u001b[0;32m-> 2124\u001b[0m     \u001b[39mraise\u001b[39;00m \u001b[39mValueError\u001b[39;00m(errmsg)\n\u001b[1;32m   2125\u001b[0m \u001b[39m# Issue a warning ?\u001b[39;00m\n\u001b[1;32m   2126\u001b[0m \u001b[39melse\u001b[39;00m:\n\u001b[1;32m   2127\u001b[0m     warnings\u001b[39m.\u001b[39mwarn(errmsg, ConversionWarning, stacklevel\u001b[39m=\u001b[39m\u001b[39m2\u001b[39m)\n",
      "\u001b[0;31mValueError\u001b[0m: Some errors were detected !\n    Line #92 (got 5 columns instead of 4)\n    Line #199 (got 5 columns instead of 4)\n    Line #585 (got 5 columns instead of 4)\n    Line #905 (got 5 columns instead of 4)"
     ]
    }
   ],
   "source": [
    "import numpy as np \n",
    "data = np.genfromtxt(\"../Day 6 Pandas/try_data.csv\", delimiter =\",\",dtype=str)\n",
    "data"
   ]
  },
  {
   "cell_type": "code",
   "execution_count": null,
   "metadata": {},
   "outputs": [],
   "source": []
  }
 ],
 "metadata": {
  "kernelspec": {
   "display_name": "base",
   "language": "python",
   "name": "python3"
  },
  "language_info": {
   "codemirror_mode": {
    "name": "ipython",
    "version": 3
   },
   "file_extension": ".py",
   "mimetype": "text/x-python",
   "name": "python",
   "nbconvert_exporter": "python",
   "pygments_lexer": "ipython3",
   "version": "3.9.13"
  },
  "orig_nbformat": 4,
  "vscode": {
   "interpreter": {
    "hash": "6c8bba455a7feb147c1b819904f421622a91439fb3eef54aa64f69d8c0f43250"
   }
  }
 },
 "nbformat": 4,
 "nbformat_minor": 2
}
