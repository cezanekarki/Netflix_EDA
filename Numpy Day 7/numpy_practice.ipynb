{
 "cells": [
  {
   "cell_type": "code",
   "execution_count": 1,
   "metadata": {},
   "outputs": [],
   "source": [
    "import numpy as np"
   ]
  },
  {
   "cell_type": "code",
   "execution_count": 2,
   "metadata": {},
   "outputs": [
    {
     "data": {
      "text/plain": [
       "array([1, 2, 3])"
      ]
     },
     "execution_count": 2,
     "metadata": {},
     "output_type": "execute_result"
    }
   ],
   "source": [
    "#creating a single dimensional numpy array.\n",
    "#Single dimensional array is created using a single list.\n",
    "\n",
    "array_numpy = np.array([1,2,3])\n",
    "array_numpy"
   ]
  },
  {
   "cell_type": "code",
   "execution_count": 3,
   "metadata": {},
   "outputs": [
    {
     "data": {
      "text/plain": [
       "array([[1, 2, 3],\n",
       "       [2, 3, 4]])"
      ]
     },
     "execution_count": 3,
     "metadata": {},
     "output_type": "execute_result"
    }
   ],
   "source": [
    "# multidimensional array \n",
    "# Multi-Dimnesional Array is created using multiple tuple inside a list.\n",
    "\n",
    "multi_array = np.array([(1,2,3),(2,3,4)])\n",
    "multi_array"
   ]
  },
  {
   "cell_type": "code",
   "execution_count": 28,
   "metadata": {},
   "outputs": [
    {
     "name": "stdout",
     "output_type": "stream",
     "text": [
      "Size of single element of list in bytes is 24\n",
      "Size of list is 8856000\n",
      "Size of single element of numpy in bytes is 8\n",
      "Size of numpy is 8000\n",
      "List results time taken is 6.382226943969727 miliseconds\n",
      "Numpy Array results time taken is 0.0005319118499755859 miliseconds\n"
     ]
    }
   ],
   "source": [
    "#distinguising between list and numpy array\n",
    "# checking the memory consumption of list and array of the same size\n",
    "\n",
    "import time\n",
    "import sys\n",
    "lst = [x for x in range(1000)]\n",
    "print(f\"Size of single element of list in bytes is {sys.getsizeof(lst[0])}\")\n",
    "print(f\"Size of list is {sys.getsizeof(lst)*len(lst)}\")\n",
    "numpy_array  = np.random.rand(1000)\n",
    "print(f\"Size of single element of numpy in bytes is {(numpy_array.itemsize)}\")\n",
    "print(f\"Size of numpy is {(numpy_array.itemsize*numpy_array.size)}\")\n",
    "\n",
    "#time comparision\n",
    "lst2 = [x for x in range(100000)]\n",
    "numpy_array2 = np.random.rand(100000)\n",
    "lst3 = [x for x in range(100000)]\n",
    "numpy_array3 = np.random.rand(100000)\n",
    "\n",
    "\n",
    "initial_time = time.time()\n",
    "\n",
    "list_result = [(a*b) for a,b in zip(lst3,lst2)]\n",
    "print(f\"List results time taken is {(time.time() - initial_time)*1000} miliseconds\")\n",
    "\n",
    "\n",
    "time.sleep(3)\n",
    "\n",
    "new_time  = time.time()\n",
    "array_result = numpy_array3 * numpy_array2\n",
    "print(f\"Numpy Array results time taken is {(time.time() - new_time)} miliseconds\")\n",
    "\n",
    "\n",
    "\n",
    "\n",
    "#Therefore the list consumes more memory than the numpy and for the larger datasets the operation of list would be comparatively slower\n",
    "#than the performance of the numpy array"
   ]
  },
  {
   "cell_type": "code",
   "execution_count": 44,
   "metadata": {},
   "outputs": [
    {
     "name": "stdout",
     "output_type": "stream",
     "text": [
      "List = [1, 2, 6, 4, 9, 34, 77, 3, 6]\n",
      "Array = [ 1  2  6  4  9 34 77  3  6]\n",
      "Array1 = [ 1  2 99  4  9 34 77  3  6]\n",
      "Array2 = [ 1  2 99  4  9 34 77  3  6]\n",
      "Array3 = [ 1  2  6  4  9 34 77  3  6]\n"
     ]
    }
   ],
   "source": [
    "#converting list to numpy arrays\n",
    "\n",
    "lst = [x for x in range(0,100)]\n",
    "arr = np.array(lst)\n",
    "\n",
    "\n",
    "#converting list to array using asarray\n",
    "lst2 = [1,2,6,4,9,34,77,3,6]\n",
    "arr2 = np.asarray(lst2)\n",
    "print(f\"List = {lst2}\")\n",
    "print(f\"Array = {arr2}\")\n",
    "\n",
    "arr3 = np.asarray(arr2)\n",
    "arr4 = np.array(arr2)\n",
    "arr3[2] = 99\n",
    "\n",
    "print(f\"Array1 = {arr2}\")\n",
    "print(f\"Array2 = {arr3}\")\n",
    "print(f\"Array3 = {arr4}\")\n",
    "\n",
    "#difference between asarray and array is that array will make the copy of the original object and asarray will mirror the original object\n",
    "#which take changes in the array when the original array is updated"
   ]
  },
  {
   "cell_type": "code",
   "execution_count": 49,
   "metadata": {},
   "outputs": [
    {
     "name": "stdout",
     "output_type": "stream",
     "text": [
      "First slicing = 2\n",
      "Second slicing = [[1 2]\n",
      " [2 5]\n",
      " [4 3]\n",
      " [1 0]]\n",
      "Third slicing = [[1 3 5]\n",
      " [2 4 5]\n",
      " [4 2 3]\n",
      " [1 8 5]]\n"
     ]
    }
   ],
   "source": [
    "#accessing the array index\n",
    "\n",
    "arr = np.array([[1,2,3,4,5],\n",
    "                [2,5,4,3,5],\n",
    "                [4,3,2,5,3],\n",
    "                [1,0,8,6,5]])\n",
    "\n",
    "#get 2 from the 3rd row\n",
    "\n",
    "sliced_array = arr[2,2]\n",
    "print(f\"First slicing = {sliced_array}\")\n",
    "\n",
    "#get first 2 elements of 1,2,3,4 rows\n",
    "sliced_array2 = arr[:,:2]\n",
    "print(f\"Second slicing = {sliced_array2}\")\n",
    "\n",
    "#array with all rows and alternate columns\n",
    "sliced_array3 = arr[:,::2]\n",
    "print(f\"Third slicing = {sliced_array3}\")\n"
   ]
  },
  {
   "cell_type": "code",
   "execution_count": 87,
   "metadata": {},
   "outputs": [
    {
     "name": "stdout",
     "output_type": "stream",
     "text": [
      "75\n",
      "0.38342042458402437\n",
      "[56 92 90 98 96 61 68 56 72 57 55 74 80 89 66 99 65 87 66 58 66 79 78 77\n",
      " 84 98 90 66 57 91 96 82 60 70 57 95 71 97 68 71 56 63 60 63 57 80 69 89\n",
      " 84 78 72 59 68 68 72 80 77 97 77 92 93 60 55 85 62 78 73 70 66 91 99 79\n",
      " 76 93 61 65 77 72 58 93 61 71 58 60 95 98 94 67 77 76 91 69 75 81 75 72\n",
      " 82 95 79 98]\n",
      "[0.69270361 0.83923508 0.32533894 0.80236103 0.35198254 0.44719027\n",
      " 0.49599602 0.60638444 0.84408884 0.21491645 0.65755103 0.71493132\n",
      " 0.24276617 0.31994575 0.54551799 0.36947238 0.18205454 0.21832497\n",
      " 0.57551077 0.58683462 0.79606448 0.88075046]\n",
      "[[0.02402811 0.09506687 0.21064757 0.76161742 0.45099383]\n",
      " [0.9130475  0.67378293 0.47697514 0.81332678 0.05969237]\n",
      " [0.06785407 0.05673761 0.32614971 0.06662649 0.82239343]]\n",
      "4\n",
      "[[6 6 1]\n",
      " [6 1 8]]\n"
     ]
    }
   ],
   "source": [
    "#creating random array\n",
    "\n",
    "#generate random integer from 0-100\n",
    "random_int = np.random.randint(0,100)\n",
    "print(random_int)\n",
    "\n",
    "random_float = np.random.rand()\n",
    "print(random_float)\n",
    "\n",
    "random_array_int = np.random.randint(55,100,size=(100))\n",
    "print(random_array_int)\n",
    "\n",
    "random_array_float = np.random.rand(22)\n",
    "print(random_array_float)\n",
    "\n",
    "#create random 2d arrays\n",
    "\n",
    "# 3 rows, 5 columns\n",
    "random_2d = np.random.rand(3,5)\n",
    "print(random_2d)\n",
    "\n",
    "#generate random number from array\n",
    "arr = [1,6,4,6,8,4,3,6]\n",
    "\n",
    "arr_random = np.random.choice(arr)\n",
    "print(arr_random)\n",
    "\n",
    "arr_random2 = np.random.choice(arr,size=(2,3))\n",
    "print(arr_random2)"
   ]
  },
  {
   "cell_type": "code",
   "execution_count": null,
   "metadata": {},
   "outputs": [],
   "source": []
  },
  {
   "cell_type": "code",
   "execution_count": null,
   "metadata": {},
   "outputs": [],
   "source": []
  },
  {
   "cell_type": "code",
   "execution_count": 59,
   "metadata": {},
   "outputs": [
    {
     "name": "stdout",
     "output_type": "stream",
     "text": [
      "Vertical Stacking = [[1 2 3]\n",
      " [4 5 6]\n",
      " [0 2 4]\n",
      " [1 3 5]]\n",
      "Horizontal Stacking = [[1 2 3 0 2 4]\n",
      " [4 5 6 1 3 5]]\n",
      "column Stacking = [[1 2 3 1]\n",
      " [4 5 6 2]]\n",
      "Row concatenation = [[1 2 3]\n",
      " [4 5 6]\n",
      " [0 2 4]\n",
      " [1 3 5]]\n",
      "Column concatenation = [[1 2 3 0 2 4]\n",
      " [4 5 6 1 3 5]]\n"
     ]
    }
   ],
   "source": [
    "#Stacking in numpy array\n",
    "\n",
    "a = np.array([[1,2,3],[4,5,6]])\n",
    "b = np.array([[0,2,4],[1,3,5]])\n",
    "\n",
    "#Vertical Stacking\n",
    "\n",
    "c = np.vstack((a,b))\n",
    "print(f\"Vertical Stacking = {c}\")\n",
    "\n",
    "#horizontal stacking\n",
    "\n",
    "d= np.hstack((a,b))\n",
    "print(f\"Horizontal Stacking = {d}\")\n",
    "\n",
    "#column stackin\n",
    "f = [1,2]\n",
    "e = np.column_stack((a,f))\n",
    "print(f\"column Stacking = {e}\")\n",
    "\n",
    "#concatinating array\n",
    "g = np.concatenate((a,b),axis=0)\n",
    "h = np.concatenate((a,b),axis=1)\n",
    "\n",
    "print(f\"Row concatenation = {g}\")\n",
    "print(f\"Column concatenation = {h}\")"
   ]
  },
  {
   "cell_type": "code",
   "execution_count": 70,
   "metadata": {},
   "outputs": [
    {
     "name": "stdout",
     "output_type": "stream",
     "text": [
      "Horizontal spliting = [array([[1, 3],\n",
      "       [2, 4]]), array([[5, 7],\n",
      "       [6, 8]]), array([[ 9, 11],\n",
      "       [10, 12]])]\n",
      "Vertical Spliting = [array([[ 1,  3,  5,  7,  9, 11]]), array([[ 2,  4,  6,  8, 10, 12]])]\n"
     ]
    }
   ],
   "source": [
    "#array splitting\n",
    "\n",
    "a = np.array([[1, 3, 5, 7, 9, 11],\n",
    "              [2, 4, 6, 8, 10, 12]])\n",
    "hor_axis = np.hsplit(a,3)\n",
    "print(f\"Horizontal spliting = {hor_axis}\")\n",
    "\n",
    "ver_axis = np.vsplit(a,2)\n",
    "print(f\"Vertical Spliting = {ver_axis}\")"
   ]
  },
  {
   "cell_type": "code",
   "execution_count": null,
   "metadata": {},
   "outputs": [],
   "source": []
  }
 ],
 "metadata": {
  "kernelspec": {
   "display_name": "base",
   "language": "python",
   "name": "python3"
  },
  "language_info": {
   "codemirror_mode": {
    "name": "ipython",
    "version": 3
   },
   "file_extension": ".py",
   "mimetype": "text/x-python",
   "name": "python",
   "nbconvert_exporter": "python",
   "pygments_lexer": "ipython3",
   "version": "3.9.13"
  },
  "orig_nbformat": 4,
  "vscode": {
   "interpreter": {
    "hash": "6c8bba455a7feb147c1b819904f421622a91439fb3eef54aa64f69d8c0f43250"
   }
  }
 },
 "nbformat": 4,
 "nbformat_minor": 2
}
