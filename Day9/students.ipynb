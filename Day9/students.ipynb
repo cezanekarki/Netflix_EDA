{
 "cells": [
  {
   "cell_type": "code",
   "execution_count": 313,
   "metadata": {},
   "outputs": [],
   "source": [
    "import pandas as pd\n",
    "import matplotlib.pyplot as plt"
   ]
  },
  {
   "cell_type": "code",
   "execution_count": 314,
   "metadata": {},
   "outputs": [],
   "source": [
    "sem1 = pd.read_csv(\"Sem1.csv\")\n",
    "sem2 = pd.read_csv(\"Sem2.csv\")\n",
    "sem3 = pd.read_csv(\"Sem3.csv\")"
   ]
  },
  {
   "cell_type": "code",
   "execution_count": 315,
   "metadata": {},
   "outputs": [
    {
     "data": {
      "text/html": [
       "<div>\n",
       "<style scoped>\n",
       "    .dataframe tbody tr th:only-of-type {\n",
       "        vertical-align: middle;\n",
       "    }\n",
       "\n",
       "    .dataframe tbody tr th {\n",
       "        vertical-align: top;\n",
       "    }\n",
       "\n",
       "    .dataframe thead th {\n",
       "        text-align: right;\n",
       "    }\n",
       "</style>\n",
       "<table border=\"1\" class=\"dataframe\">\n",
       "  <thead>\n",
       "    <tr style=\"text-align: right;\">\n",
       "      <th></th>\n",
       "      <th>ID</th>\n",
       "      <th>Name</th>\n",
       "      <th>Semester</th>\n",
       "      <th>Maths</th>\n",
       "      <th>English</th>\n",
       "      <th>Physics</th>\n",
       "      <th>Computer Science</th>\n",
       "    </tr>\n",
       "  </thead>\n",
       "  <tbody>\n",
       "    <tr>\n",
       "      <th>0</th>\n",
       "      <td>1</td>\n",
       "      <td>Concettina</td>\n",
       "      <td>1</td>\n",
       "      <td>27</td>\n",
       "      <td>84</td>\n",
       "      <td>45</td>\n",
       "      <td>19</td>\n",
       "    </tr>\n",
       "    <tr>\n",
       "      <th>1</th>\n",
       "      <td>2</td>\n",
       "      <td>Burl</td>\n",
       "      <td>1</td>\n",
       "      <td>63</td>\n",
       "      <td>24</td>\n",
       "      <td>24</td>\n",
       "      <td>8</td>\n",
       "    </tr>\n",
       "    <tr>\n",
       "      <th>2</th>\n",
       "      <td>3</td>\n",
       "      <td>Lebbie</td>\n",
       "      <td>1</td>\n",
       "      <td>93</td>\n",
       "      <td>80</td>\n",
       "      <td>75</td>\n",
       "      <td>51</td>\n",
       "    </tr>\n",
       "    <tr>\n",
       "      <th>3</th>\n",
       "      <td>4</td>\n",
       "      <td>Merci</td>\n",
       "      <td>1</td>\n",
       "      <td>72</td>\n",
       "      <td>68</td>\n",
       "      <td>8</td>\n",
       "      <td>41</td>\n",
       "    </tr>\n",
       "    <tr>\n",
       "      <th>4</th>\n",
       "      <td>5</td>\n",
       "      <td>Isak</td>\n",
       "      <td>1</td>\n",
       "      <td>37</td>\n",
       "      <td>99</td>\n",
       "      <td>79</td>\n",
       "      <td>26</td>\n",
       "    </tr>\n",
       "  </tbody>\n",
       "</table>\n",
       "</div>"
      ],
      "text/plain": [
       "   ID        Name  Semester   Maths  English  Physics  Computer Science\n",
       "0   1  Concettina          1     27       84       45                19\n",
       "1   2        Burl          1     63       24       24                 8\n",
       "2   3      Lebbie          1     93       80       75                51\n",
       "3   4       Merci          1     72       68        8                41\n",
       "4   5        Isak          1     37       99       79                26"
      ]
     },
     "execution_count": 315,
     "metadata": {},
     "output_type": "execute_result"
    }
   ],
   "source": [
    "sem1.head()"
   ]
  },
  {
   "cell_type": "code",
   "execution_count": 316,
   "metadata": {},
   "outputs": [
    {
     "data": {
      "text/html": [
       "<div>\n",
       "<style scoped>\n",
       "    .dataframe tbody tr th:only-of-type {\n",
       "        vertical-align: middle;\n",
       "    }\n",
       "\n",
       "    .dataframe tbody tr th {\n",
       "        vertical-align: top;\n",
       "    }\n",
       "\n",
       "    .dataframe thead th {\n",
       "        text-align: right;\n",
       "    }\n",
       "</style>\n",
       "<table border=\"1\" class=\"dataframe\">\n",
       "  <thead>\n",
       "    <tr style=\"text-align: right;\">\n",
       "      <th></th>\n",
       "      <th>ID</th>\n",
       "      <th>Name</th>\n",
       "      <th>Semester</th>\n",
       "      <th>Maths</th>\n",
       "      <th>English</th>\n",
       "      <th>Physics</th>\n",
       "      <th>Computer Science</th>\n",
       "    </tr>\n",
       "  </thead>\n",
       "  <tbody>\n",
       "    <tr>\n",
       "      <th>0</th>\n",
       "      <td>1</td>\n",
       "      <td>Kelcie</td>\n",
       "      <td>2</td>\n",
       "      <td>5</td>\n",
       "      <td>14</td>\n",
       "      <td>14</td>\n",
       "      <td>40</td>\n",
       "    </tr>\n",
       "    <tr>\n",
       "      <th>1</th>\n",
       "      <td>2</td>\n",
       "      <td>Mayer</td>\n",
       "      <td>2</td>\n",
       "      <td>3</td>\n",
       "      <td>80</td>\n",
       "      <td>71</td>\n",
       "      <td>48</td>\n",
       "    </tr>\n",
       "    <tr>\n",
       "      <th>2</th>\n",
       "      <td>3</td>\n",
       "      <td>Bondy</td>\n",
       "      <td>2</td>\n",
       "      <td>66</td>\n",
       "      <td>64</td>\n",
       "      <td>54</td>\n",
       "      <td>4</td>\n",
       "    </tr>\n",
       "    <tr>\n",
       "      <th>3</th>\n",
       "      <td>4</td>\n",
       "      <td>Muriel</td>\n",
       "      <td>2</td>\n",
       "      <td>11</td>\n",
       "      <td>37</td>\n",
       "      <td>98</td>\n",
       "      <td>10</td>\n",
       "    </tr>\n",
       "    <tr>\n",
       "      <th>4</th>\n",
       "      <td>5</td>\n",
       "      <td>Nickolaus</td>\n",
       "      <td>2</td>\n",
       "      <td>76</td>\n",
       "      <td>16</td>\n",
       "      <td>5</td>\n",
       "      <td>98</td>\n",
       "    </tr>\n",
       "  </tbody>\n",
       "</table>\n",
       "</div>"
      ],
      "text/plain": [
       "   ID       Name  Semester   Maths  English  Physics  Computer Science\n",
       "0   1     Kelcie          2      5       14       14                40\n",
       "1   2      Mayer          2      3       80       71                48\n",
       "2   3      Bondy          2     66       64       54                 4\n",
       "3   4     Muriel          2     11       37       98                10\n",
       "4   5  Nickolaus          2     76       16        5                98"
      ]
     },
     "execution_count": 316,
     "metadata": {},
     "output_type": "execute_result"
    }
   ],
   "source": [
    "sem2.head()"
   ]
  },
  {
   "cell_type": "code",
   "execution_count": 317,
   "metadata": {},
   "outputs": [
    {
     "data": {
      "text/html": [
       "<div>\n",
       "<style scoped>\n",
       "    .dataframe tbody tr th:only-of-type {\n",
       "        vertical-align: middle;\n",
       "    }\n",
       "\n",
       "    .dataframe tbody tr th {\n",
       "        vertical-align: top;\n",
       "    }\n",
       "\n",
       "    .dataframe thead th {\n",
       "        text-align: right;\n",
       "    }\n",
       "</style>\n",
       "<table border=\"1\" class=\"dataframe\">\n",
       "  <thead>\n",
       "    <tr style=\"text-align: right;\">\n",
       "      <th></th>\n",
       "      <th>ID</th>\n",
       "      <th>Name</th>\n",
       "      <th>Semester</th>\n",
       "      <th>Maths</th>\n",
       "      <th>English</th>\n",
       "      <th>Physics</th>\n",
       "      <th>Computer Science</th>\n",
       "    </tr>\n",
       "  </thead>\n",
       "  <tbody>\n",
       "    <tr>\n",
       "      <th>0</th>\n",
       "      <td>1</td>\n",
       "      <td>Parnell</td>\n",
       "      <td>3</td>\n",
       "      <td>100</td>\n",
       "      <td>31</td>\n",
       "      <td>58</td>\n",
       "      <td>87</td>\n",
       "    </tr>\n",
       "    <tr>\n",
       "      <th>1</th>\n",
       "      <td>2</td>\n",
       "      <td>Tad</td>\n",
       "      <td>3</td>\n",
       "      <td>48</td>\n",
       "      <td>17</td>\n",
       "      <td>77</td>\n",
       "      <td>50</td>\n",
       "    </tr>\n",
       "    <tr>\n",
       "      <th>2</th>\n",
       "      <td>3</td>\n",
       "      <td>Bunny</td>\n",
       "      <td>3</td>\n",
       "      <td>20</td>\n",
       "      <td>23</td>\n",
       "      <td>77</td>\n",
       "      <td>26</td>\n",
       "    </tr>\n",
       "    <tr>\n",
       "      <th>3</th>\n",
       "      <td>4</td>\n",
       "      <td>Demeter</td>\n",
       "      <td>3</td>\n",
       "      <td>80</td>\n",
       "      <td>88</td>\n",
       "      <td>40</td>\n",
       "      <td>100</td>\n",
       "    </tr>\n",
       "    <tr>\n",
       "      <th>4</th>\n",
       "      <td>5</td>\n",
       "      <td>Augustine</td>\n",
       "      <td>3</td>\n",
       "      <td>62</td>\n",
       "      <td>78</td>\n",
       "      <td>33</td>\n",
       "      <td>71</td>\n",
       "    </tr>\n",
       "  </tbody>\n",
       "</table>\n",
       "</div>"
      ],
      "text/plain": [
       "   ID       Name  Semester   Maths  English  Physics  Computer Science\n",
       "0   1    Parnell          3    100       31       58                87\n",
       "1   2        Tad          3     48       17       77                50\n",
       "2   3      Bunny          3     20       23       77                26\n",
       "3   4    Demeter          3     80       88       40               100\n",
       "4   5  Augustine          3     62       78       33                71"
      ]
     },
     "execution_count": 317,
     "metadata": {},
     "output_type": "execute_result"
    }
   ],
   "source": [
    "sem3.head()"
   ]
  },
  {
   "cell_type": "code",
   "execution_count": 318,
   "metadata": {},
   "outputs": [],
   "source": [
    "marksheet = pd.concat([sem1,sem2,sem3],axis=0)"
   ]
  },
  {
   "cell_type": "code",
   "execution_count": 319,
   "metadata": {},
   "outputs": [
    {
     "data": {
      "text/html": [
       "<div>\n",
       "<style scoped>\n",
       "    .dataframe tbody tr th:only-of-type {\n",
       "        vertical-align: middle;\n",
       "    }\n",
       "\n",
       "    .dataframe tbody tr th {\n",
       "        vertical-align: top;\n",
       "    }\n",
       "\n",
       "    .dataframe thead th {\n",
       "        text-align: right;\n",
       "    }\n",
       "</style>\n",
       "<table border=\"1\" class=\"dataframe\">\n",
       "  <thead>\n",
       "    <tr style=\"text-align: right;\">\n",
       "      <th></th>\n",
       "      <th>ID</th>\n",
       "      <th>Name</th>\n",
       "      <th>Semester</th>\n",
       "      <th>Maths</th>\n",
       "      <th>English</th>\n",
       "      <th>Physics</th>\n",
       "      <th>Computer Science</th>\n",
       "    </tr>\n",
       "  </thead>\n",
       "  <tbody>\n",
       "    <tr>\n",
       "      <th>0</th>\n",
       "      <td>1</td>\n",
       "      <td>Concettina</td>\n",
       "      <td>1</td>\n",
       "      <td>27</td>\n",
       "      <td>84</td>\n",
       "      <td>45</td>\n",
       "      <td>19</td>\n",
       "    </tr>\n",
       "    <tr>\n",
       "      <th>1</th>\n",
       "      <td>2</td>\n",
       "      <td>Burl</td>\n",
       "      <td>1</td>\n",
       "      <td>63</td>\n",
       "      <td>24</td>\n",
       "      <td>24</td>\n",
       "      <td>8</td>\n",
       "    </tr>\n",
       "    <tr>\n",
       "      <th>2</th>\n",
       "      <td>3</td>\n",
       "      <td>Lebbie</td>\n",
       "      <td>1</td>\n",
       "      <td>93</td>\n",
       "      <td>80</td>\n",
       "      <td>75</td>\n",
       "      <td>51</td>\n",
       "    </tr>\n",
       "    <tr>\n",
       "      <th>3</th>\n",
       "      <td>4</td>\n",
       "      <td>Merci</td>\n",
       "      <td>1</td>\n",
       "      <td>72</td>\n",
       "      <td>68</td>\n",
       "      <td>8</td>\n",
       "      <td>41</td>\n",
       "    </tr>\n",
       "    <tr>\n",
       "      <th>4</th>\n",
       "      <td>5</td>\n",
       "      <td>Isak</td>\n",
       "      <td>1</td>\n",
       "      <td>37</td>\n",
       "      <td>99</td>\n",
       "      <td>79</td>\n",
       "      <td>26</td>\n",
       "    </tr>\n",
       "    <tr>\n",
       "      <th>...</th>\n",
       "      <td>...</td>\n",
       "      <td>...</td>\n",
       "      <td>...</td>\n",
       "      <td>...</td>\n",
       "      <td>...</td>\n",
       "      <td>...</td>\n",
       "      <td>...</td>\n",
       "    </tr>\n",
       "    <tr>\n",
       "      <th>55</th>\n",
       "      <td>56</td>\n",
       "      <td>Chuck</td>\n",
       "      <td>3</td>\n",
       "      <td>50</td>\n",
       "      <td>91</td>\n",
       "      <td>58</td>\n",
       "      <td>47</td>\n",
       "    </tr>\n",
       "    <tr>\n",
       "      <th>56</th>\n",
       "      <td>57</td>\n",
       "      <td>Silvio</td>\n",
       "      <td>3</td>\n",
       "      <td>23</td>\n",
       "      <td>26</td>\n",
       "      <td>34</td>\n",
       "      <td>1</td>\n",
       "    </tr>\n",
       "    <tr>\n",
       "      <th>57</th>\n",
       "      <td>58</td>\n",
       "      <td>Matt</td>\n",
       "      <td>3</td>\n",
       "      <td>18</td>\n",
       "      <td>1</td>\n",
       "      <td>84</td>\n",
       "      <td>10</td>\n",
       "    </tr>\n",
       "    <tr>\n",
       "      <th>58</th>\n",
       "      <td>59</td>\n",
       "      <td>Erv</td>\n",
       "      <td>3</td>\n",
       "      <td>64</td>\n",
       "      <td>14</td>\n",
       "      <td>13</td>\n",
       "      <td>10</td>\n",
       "    </tr>\n",
       "    <tr>\n",
       "      <th>59</th>\n",
       "      <td>60</td>\n",
       "      <td>Mack</td>\n",
       "      <td>3</td>\n",
       "      <td>86</td>\n",
       "      <td>25</td>\n",
       "      <td>42</td>\n",
       "      <td>79</td>\n",
       "    </tr>\n",
       "  </tbody>\n",
       "</table>\n",
       "<p>180 rows × 7 columns</p>\n",
       "</div>"
      ],
      "text/plain": [
       "    ID        Name  Semester   Maths  English  Physics  Computer Science\n",
       "0    1  Concettina          1     27       84       45                19\n",
       "1    2        Burl          1     63       24       24                 8\n",
       "2    3      Lebbie          1     93       80       75                51\n",
       "3    4       Merci          1     72       68        8                41\n",
       "4    5        Isak          1     37       99       79                26\n",
       "..  ..         ...        ...    ...      ...      ...               ...\n",
       "55  56       Chuck          3     50       91       58                47\n",
       "56  57      Silvio          3     23       26       34                 1\n",
       "57  58        Matt          3     18        1       84                10\n",
       "58  59         Erv          3     64       14       13                10\n",
       "59  60        Mack          3     86       25       42                79\n",
       "\n",
       "[180 rows x 7 columns]"
      ]
     },
     "execution_count": 319,
     "metadata": {},
     "output_type": "execute_result"
    }
   ],
   "source": [
    "marksheet"
   ]
  },
  {
   "cell_type": "code",
   "execution_count": 320,
   "metadata": {},
   "outputs": [
    {
     "data": {
      "text/plain": [
       "180"
      ]
     },
     "execution_count": 320,
     "metadata": {},
     "output_type": "execute_result"
    }
   ],
   "source": [
    "len(marksheet)"
   ]
  },
  {
   "cell_type": "code",
   "execution_count": 321,
   "metadata": {},
   "outputs": [],
   "source": [
    "marksheet.drop(\"ID\",axis=1,inplace=True)"
   ]
  },
  {
   "cell_type": "code",
   "execution_count": 322,
   "metadata": {},
   "outputs": [
    {
     "data": {
      "text/html": [
       "<div>\n",
       "<style scoped>\n",
       "    .dataframe tbody tr th:only-of-type {\n",
       "        vertical-align: middle;\n",
       "    }\n",
       "\n",
       "    .dataframe tbody tr th {\n",
       "        vertical-align: top;\n",
       "    }\n",
       "\n",
       "    .dataframe thead th {\n",
       "        text-align: right;\n",
       "    }\n",
       "</style>\n",
       "<table border=\"1\" class=\"dataframe\">\n",
       "  <thead>\n",
       "    <tr style=\"text-align: right;\">\n",
       "      <th></th>\n",
       "      <th></th>\n",
       "      <th></th>\n",
       "      <th></th>\n",
       "      <th></th>\n",
       "      <th></th>\n",
       "    </tr>\n",
       "    <tr>\n",
       "      <th>Semester</th>\n",
       "      <th>Name</th>\n",
       "      <th>Maths</th>\n",
       "      <th>English</th>\n",
       "      <th>Physics</th>\n",
       "      <th>Computer Science</th>\n",
       "    </tr>\n",
       "  </thead>\n",
       "  <tbody>\n",
       "    <tr>\n",
       "      <th rowspan=\"5\" valign=\"top\">1</th>\n",
       "      <th>Agnella</th>\n",
       "      <th>12</th>\n",
       "      <th>31</th>\n",
       "      <th>43</th>\n",
       "      <th>67</th>\n",
       "    </tr>\n",
       "    <tr>\n",
       "      <th>Audrey</th>\n",
       "      <th>30</th>\n",
       "      <th>72</th>\n",
       "      <th>68</th>\n",
       "      <th>56</th>\n",
       "    </tr>\n",
       "    <tr>\n",
       "      <th>Augusta</th>\n",
       "      <th>27</th>\n",
       "      <th>57</th>\n",
       "      <th>35</th>\n",
       "      <th>26</th>\n",
       "    </tr>\n",
       "    <tr>\n",
       "      <th>Barry</th>\n",
       "      <th>92</th>\n",
       "      <th>45</th>\n",
       "      <th>53</th>\n",
       "      <th>53</th>\n",
       "    </tr>\n",
       "    <tr>\n",
       "      <th>Benedetta</th>\n",
       "      <th>22</th>\n",
       "      <th>34</th>\n",
       "      <th>49</th>\n",
       "      <th>87</th>\n",
       "    </tr>\n",
       "    <tr>\n",
       "      <th>...</th>\n",
       "      <th>...</th>\n",
       "      <th>...</th>\n",
       "      <th>...</th>\n",
       "      <th>...</th>\n",
       "      <th>...</th>\n",
       "    </tr>\n",
       "    <tr>\n",
       "      <th rowspan=\"5\" valign=\"top\">3</th>\n",
       "      <th>Tish</th>\n",
       "      <th>62</th>\n",
       "      <th>2</th>\n",
       "      <th>69</th>\n",
       "      <th>11</th>\n",
       "    </tr>\n",
       "    <tr>\n",
       "      <th>Todd</th>\n",
       "      <th>14</th>\n",
       "      <th>41</th>\n",
       "      <th>97</th>\n",
       "      <th>67</th>\n",
       "    </tr>\n",
       "    <tr>\n",
       "      <th>Tynan</th>\n",
       "      <th>41</th>\n",
       "      <th>68</th>\n",
       "      <th>48</th>\n",
       "      <th>89</th>\n",
       "    </tr>\n",
       "    <tr>\n",
       "      <th>Vincenz</th>\n",
       "      <th>41</th>\n",
       "      <th>11</th>\n",
       "      <th>98</th>\n",
       "      <th>99</th>\n",
       "    </tr>\n",
       "    <tr>\n",
       "      <th>Wait</th>\n",
       "      <th>87</th>\n",
       "      <th>7</th>\n",
       "      <th>22</th>\n",
       "      <th>23</th>\n",
       "    </tr>\n",
       "  </tbody>\n",
       "</table>\n",
       "<p>180 rows × 0 columns</p>\n",
       "</div>"
      ],
      "text/plain": [
       "Empty DataFrame\n",
       "Columns: []\n",
       "Index: [(1, Agnella, 12, 31, 43, 67), (1, Audrey, 30, 72, 68, 56), (1, Augusta, 27, 57, 35, 26), (1, Barry, 92, 45, 53, 53), (1, Benedetta, 22, 34, 49, 87), (1, Buffy, 2, 44, 61, 41), (1, Burl, 63, 24, 24, 8), (1, Cassaundra, 81, 73, 79, 41), (1, Concettina, 27, 84, 45, 19), (1, Cosme, 53, 32, 44, 75), (1, Falkner, 18, 41, 28, 19), (1, Ferdinande, 6, 99, 42, 65), (1, Frederigo, 4, 44, 73, 93), (1, Gabriel, 93, 69, 85, 23), (1, Garry, 33, 91, 15, 88), (1, Genovera, 93, 52, 89, 97), (1, Grace, 1, 28, 24, 44), (1, Harbert, 45, 15, 57, 29), (1, Hatty, 69, 88, 46, 25), (1, Hugo, 30, 83, 53, 72), (1, Isak, 37, 99, 79, 26), (1, Janela, 51, 28, 39, 6), (1, Johann, 89, 70, 91, 55), (1, Karlan, 4, 13, 92, 21), (1, Karlens, 81, 55, 68, 57), (1, Katherina, 23, 33, 92, 14), (1, Kienan, 65, 47, 33, 89), (1, Koren, 21, 7, 44, 24), (1, Kristofer, 83, 61, 18, 46), (1, Kristopher, 22, 74, 53, 22), (1, Lacy, 78, 20, 88, 95), (1, Lebbie, 93, 80, 75, 51), (1, Leigh, 72, 36, 76, 28), (1, Lowell, 31, 22, 99, 73), (1, Lu, 75, 9, 81, 21), (1, Mabelle, 7, 41, 20, 70), (1, Manolo, 2, 3, 67, 31), (1, Merci, 72, 68, 8, 41), (1, Michal, 85, 6, 14, 42), (1, Mirabella, 29, 38, 4, 6), (1, Mitch, 83, 97, 99, 73), (1, Nanci, 14, 62, 51, 19), (1, Natassia, 16, 92, 26, 93), (1, Norry, 52, 64, 76, 93), (1, Paola, 80, 41, 29, 35), (1, Parnell, 10, 4, 90, 77), (1, Raven, 18, 67, 85, 3), (1, Rex, 18, 10, 84, 6), (1, Ricoriki, 16, 38, 54, 99), (1, Sam, 92, 8, 74, 45), (1, Samara, 56, 15, 35, 63), (1, Siana, 48, 85, 78, 61), (1, Stanley, 86, 51, 81, 8), (1, Terrel, 80, 77, 33, 9), (1, Torey, 59, 86, 21, 59), (1, Tracie, 88, 78, 51, 96), (1, Umberto, 87, 92, 82, 30), (1, Violette, 26, 22, 34, 90), (1, Ware, 61, 2, 34, 56), (1, Weston, 84, 79, 46, 9), (2, Aida, 13, 4, 42, 86), (2, Anthia, 16, 99, 91, 14), (2, Arielle, 17, 83, 28, 14), (2, Arleen, 54, 17, 64, 23), (2, Barth, 4, 80, 96, 4), (2, Bekki, 8, 30, 72, 20), (2, Blinni, 66, 2, 77, 22), (2, Bondy, 66, 64, 54, 4), (2, Bryan, 56, 84, 4, 72), (2, Cecilia, 69, 27, 56, 41), (2, Charlotta, 57, 42, 3, 23), (2, Chas, 23, 8, 71, 3), (2, Chelsae, 99, 76, 82, 91), (2, Chlo, 68, 25, 48, 16), (2, Christos, 40, 31, 39, 7), (2, Chrysa, 31, 34, 25, 98), (2, Clemmy, 99, 46, 14, 17), (2, Corrinne, 40, 93, 6, 5), (2, Daryl, 17, 77, 81, 38), (2, Davie, 91, 42, 98, 51), (2, Dewain, 85, 8, 50, 58), (2, Dill, 82, 17, 20, 27), (2, Donnamarie, 3, 28, 12, 50), (2, Duncan, 23, 36, 18, 63), (2, Ellsworth, 42, 39, 56, 47), (2, Erinn, 44, 12, 79, 31), (2, Faye, 35, 70, 60, 7), (2, Ganny, 87, 73, 16, 90), (2, Glory, 28, 1, 64, 96), (2, Gwenora, 48, 71, 45, 71), (2, Hersch, 39, 72, 100, 12), (2, Ivory, 16, 8, 36, 96), (2, Jodi, 96, 99, 9, 71), (2, Josefina, 20, 28, 83, 88), (2, Katheryn, 73, 97, 25, 36), (2, Kelcie, 5, 14, 14, 40), (2, Kelcy, 60, 92, 44, 90), (2, Kim, 48, 74, 74, 25), (2, Libbey, 84, 21, 92, 65), (2, Maddi, 70, 42, 82, 61), ...]\n",
       "\n",
       "[180 rows x 0 columns]"
      ]
     },
     "execution_count": 322,
     "metadata": {},
     "output_type": "execute_result"
    }
   ],
   "source": [
    "from sklearn.utils import shuffle\n",
    "marksheet = shuffle(marksheet)\n",
    "marksheet.reset_index(drop=True, inplace=True)\n",
    "marksheet_group = marksheet.groupby([\"Semester \",\"Name\", \"Maths\",\"English\",\"Physics\",\"Computer Science\"])\n",
    "marksheet_group.first()"
   ]
  },
  {
   "cell_type": "code",
   "execution_count": 323,
   "metadata": {},
   "outputs": [],
   "source": [
    "def calculation_marks(b,a):\n",
    "    if b == \"pass\":\n",
    "        if a in [1,2,3]:\n",
    "            maths_pass = marksheet[(marksheet[\"Semester \"] == a) & (marksheet.Maths >=30)]\n",
    "            cs_pass = marksheet[(marksheet[\"Semester \"] == a) & (marksheet[\"Computer Science\"] >=30)]\n",
    "            english_pass = marksheet[(marksheet[\"Semester \"] == a) & (marksheet.English >=30)]\n",
    "            physics_pass = marksheet[(marksheet[\"Semester \"] == a) & (marksheet.Physics >=30)]\n",
    "        \n",
    "        elif a == \"full\":\n",
    "            maths_pass = marksheet[(marksheet.Maths >=30)]\n",
    "            cs_pass = marksheet[(marksheet[\"Computer Science\"] >=30)]\n",
    "            english_pass = marksheet[(marksheet.English >=30)]\n",
    "            physics_pass = marksheet[(marksheet.Physics >=30)]\n",
    "    \n",
    "    elif b == \"fail\":\n",
    "        if a in [1,2,3]:\n",
    "            maths_pass = marksheet[(marksheet[\"Semester \"] == a) & (marksheet.Maths <30)]\n",
    "            cs_pass = marksheet[(marksheet[\"Semester \"] == a) & (marksheet[\"Computer Science\"] <30)]\n",
    "            english_pass = marksheet[(marksheet[\"Semester \"] == a) & (marksheet.English <30)]\n",
    "            physics_pass = marksheet[(marksheet[\"Semester \"] == a) & (marksheet.Physics <30)]\n",
    "        \n",
    "        elif a == \"full\":\n",
    "            maths_pass = marksheet[(marksheet.Maths <30)]\n",
    "            cs_pass = marksheet[(marksheet[\"Computer Science\"] <30)]\n",
    "            english_pass = marksheet[(marksheet.English <30)]\n",
    "            physics_pass = marksheet[(marksheet.Physics <30)]\n",
    "\n",
    "    \n",
    "\n",
    "    return len(maths_pass),len(cs_pass),len(english_pass), len(physics_pass)\n"
   ]
  },
  {
   "cell_type": "code",
   "execution_count": null,
   "metadata": {},
   "outputs": [],
   "source": []
  },
  {
   "cell_type": "code",
   "execution_count": 324,
   "metadata": {},
   "outputs": [],
   "source": [
    "maths1, cs1, english1, physics1 = calculation_marks(\"pass\",1)"
   ]
  },
  {
   "cell_type": "code",
   "execution_count": 325,
   "metadata": {},
   "outputs": [],
   "source": [
    "maths2, cs2, english2, physics2 = calculation_marks(\"pass\",2)"
   ]
  },
  {
   "cell_type": "code",
   "execution_count": 326,
   "metadata": {},
   "outputs": [],
   "source": [
    "maths3, cs3, english3, physics3 = calculation_marks(\"pass\",3)"
   ]
  },
  {
   "cell_type": "code",
   "execution_count": 327,
   "metadata": {},
   "outputs": [],
   "source": [
    "maths_total, cs_total, english_total, physics_total = calculation_marks(\"pass\",\"full\")"
   ]
  },
  {
   "cell_type": "code",
   "execution_count": 328,
   "metadata": {},
   "outputs": [],
   "source": [
    "maths_total_fail, cs_total_fail, english_total_fail, physics_total_fail = calculation_marks(\"fail\",\"full\")\n"
   ]
  },
  {
   "cell_type": "code",
   "execution_count": 329,
   "metadata": {},
   "outputs": [],
   "source": [
    "maths_fail1, cs_fail1, english_fail1, physics_fail1 = calculation_marks(\"fail\",1)\n"
   ]
  },
  {
   "cell_type": "code",
   "execution_count": 330,
   "metadata": {},
   "outputs": [],
   "source": [
    "maths_fail2, cs_fail2, english_fail2, physics_fail2 = calculation_marks(\"fail\",2)\n"
   ]
  },
  {
   "cell_type": "code",
   "execution_count": 331,
   "metadata": {},
   "outputs": [],
   "source": [
    "maths_fail3, cs_fail3, english_fail3, physics_fail3 = calculation_marks(\"fail\",3)\n"
   ]
  },
  {
   "cell_type": "code",
   "execution_count": 638,
   "metadata": {},
   "outputs": [
    {
     "data": {
      "text/plain": [
       "[]"
      ]
     },
     "execution_count": 638,
     "metadata": {},
     "output_type": "execute_result"
    },
    {
     "data": {
      "image/png": "[encoded data removed]",
      "text/plain": [
       "<Figure size 1000x1000 with 1 Axes>"
      ]
     },
     "metadata": {},
     "output_type": "display_data"
    }
   ],
   "source": [
    "semester1 = [maths1,cs1,english1,physics1]\n",
    "semester2  =[maths2,cs2,english2,physics2]\n",
    "semester3 = [maths3,cs3,english3,physics3]\n",
    "semester1_fail = [maths_fail1,cs_fail1,english_fail1,physics_fail1]\n",
    "semester2_fail = [maths_fail2,cs_fail2,english_fail2,physics_fail2]\n",
    "semester3_fail = [maths_fail3,cs_fail3,english_fail3,physics_fail3]\n",
    "total_fail = [maths_total_fail,cs_total_fail,english_total_fail,physics_total_fail]\n",
    "total_sem = [maths_total,cs_total,english_total,physics_total]\n",
    "subjects = [\"Maths\",\"Computer Science\",\"English\",\"Physics\"]\n",
    "cols = [\"Semester 1 Pass\", \"Semester 2 Pass\",\"Semester 3 Pass\",\"Total Passed\",\"Semester 1 Fail\",\"Semester 2 Fail\", \"Semester 3 Fail\",\"Total Fail\"]\n",
    "\n",
    "df_total = pd.DataFrame([semester1,semester2,semester3,total_sem,semester1_fail,semester2_fail,semester3_fail,total_fail])\n",
    "\n",
    "df_total = df_total.T\n",
    "df_total.columns  = cols\n",
    "df_total.index = subjects\n",
    "df_total.index.rename(\"Subject\",inplace=True)\n",
    "ax = df_total.plot(kind=\"barh\", figsize=(10,10))\n",
    "for i in range(0,8):\n",
    "    ax.bar_label(ax.containers[i], label_type='edge',padding=10)\n",
    "\n",
    "plt.plot()\n"
   ]
  },
  {
   "cell_type": "code",
   "execution_count": 333,
   "metadata": {},
   "outputs": [
    {
     "data": {
      "text/html": [
       "<div>\n",
       "<style scoped>\n",
       "    .dataframe tbody tr th:only-of-type {\n",
       "        vertical-align: middle;\n",
       "    }\n",
       "\n",
       "    .dataframe tbody tr th {\n",
       "        vertical-align: top;\n",
       "    }\n",
       "\n",
       "    .dataframe thead th {\n",
       "        text-align: right;\n",
       "    }\n",
       "</style>\n",
       "<table border=\"1\" class=\"dataframe\">\n",
       "  <thead>\n",
       "    <tr style=\"text-align: right;\">\n",
       "      <th></th>\n",
       "      <th>Semester 1 Pass</th>\n",
       "      <th>Semester 2 Pass</th>\n",
       "      <th>Semester 3 Pass</th>\n",
       "      <th>Total Passed</th>\n",
       "      <th>Semester 1 Fail</th>\n",
       "      <th>Semester 2 Fail</th>\n",
       "      <th>Semester 3 Fail</th>\n",
       "      <th>Total Fail</th>\n",
       "    </tr>\n",
       "    <tr>\n",
       "      <th>Subject</th>\n",
       "      <th></th>\n",
       "      <th></th>\n",
       "      <th></th>\n",
       "      <th></th>\n",
       "      <th></th>\n",
       "      <th></th>\n",
       "      <th></th>\n",
       "      <th></th>\n",
       "    </tr>\n",
       "  </thead>\n",
       "  <tbody>\n",
       "    <tr>\n",
       "      <th>Maths</th>\n",
       "      <td>37</td>\n",
       "      <td>39</td>\n",
       "      <td>39</td>\n",
       "      <td>115</td>\n",
       "      <td>23</td>\n",
       "      <td>21</td>\n",
       "      <td>21</td>\n",
       "      <td>65</td>\n",
       "    </tr>\n",
       "    <tr>\n",
       "      <th>Computer Science</th>\n",
       "      <td>38</td>\n",
       "      <td>37</td>\n",
       "      <td>42</td>\n",
       "      <td>117</td>\n",
       "      <td>22</td>\n",
       "      <td>23</td>\n",
       "      <td>18</td>\n",
       "      <td>63</td>\n",
       "    </tr>\n",
       "    <tr>\n",
       "      <th>English</th>\n",
       "      <td>43</td>\n",
       "      <td>40</td>\n",
       "      <td>41</td>\n",
       "      <td>124</td>\n",
       "      <td>17</td>\n",
       "      <td>20</td>\n",
       "      <td>19</td>\n",
       "      <td>56</td>\n",
       "    </tr>\n",
       "    <tr>\n",
       "      <th>Physics</th>\n",
       "      <td>48</td>\n",
       "      <td>41</td>\n",
       "      <td>44</td>\n",
       "      <td>133</td>\n",
       "      <td>12</td>\n",
       "      <td>19</td>\n",
       "      <td>16</td>\n",
       "      <td>47</td>\n",
       "    </tr>\n",
       "  </tbody>\n",
       "</table>\n",
       "</div>"
      ],
      "text/plain": [
       "                  Semester 1 Pass  Semester 2 Pass  Semester 3 Pass  \\\n",
       "Subject                                                               \n",
       "Maths                          37               39               39   \n",
       "Computer Science               38               37               42   \n",
       "English                        43               40               41   \n",
       "Physics                        48               41               44   \n",
       "\n",
       "                  Total Passed  Semester 1 Fail  Semester 2 Fail  \\\n",
       "Subject                                                            \n",
       "Maths                      115               23               21   \n",
       "Computer Science           117               22               23   \n",
       "English                    124               17               20   \n",
       "Physics                    133               12               19   \n",
       "\n",
       "                  Semester 3 Fail  Total Fail  \n",
       "Subject                                        \n",
       "Maths                          21          65  \n",
       "Computer Science               18          63  \n",
       "English                        19          56  \n",
       "Physics                        16          47  "
      ]
     },
     "execution_count": 333,
     "metadata": {},
     "output_type": "execute_result"
    }
   ],
   "source": [
    "df_total"
   ]
  },
  {
   "cell_type": "code",
   "execution_count": 637,
   "metadata": {},
   "outputs": [
    {
     "data": {
      "image/png": "[encoded data removed]",
      "text/plain": [
       "<Figure size 1000x1000 with 1 Axes>"
      ]
     },
     "metadata": {},
     "output_type": "display_data"
    },
    {
     "data": {
      "text/plain": [
       "<Figure size 2000x2000 with 0 Axes>"
      ]
     },
     "metadata": {},
     "output_type": "display_data"
    }
   ],
   "source": [
    "ax = df_total.plot(kind=\"bar\", figsize=(10,10))\n",
    "ax.set_xlabel(\"Count\")\n",
    "ax.set_ylabel(\"Subject\")\n",
    "rects = ax.patches\n",
    "\n",
    "for i in range(0,8):\n",
    "    ax.bar_label(ax.containers[i], label_type='edge')\n",
    "plt.figure(figsize=(20, 20))\n",
    "plt.show()"
   ]
  },
  {
   "cell_type": "code",
   "execution_count": 335,
   "metadata": {},
   "outputs": [],
   "source": [
    "lst_labels = []\n",
    "for i in df_total.iterrows():\n",
    "    for j in i:\n",
    "        lst_labels.append(j)\n"
   ]
  },
  {
   "cell_type": "code",
   "execution_count": 658,
   "metadata": {},
   "outputs": [],
   "source": [
    "df_data = pd.concat([sem1,sem2,sem3],axis=0)"
   ]
  },
  {
   "cell_type": "code",
   "execution_count": 659,
   "metadata": {},
   "outputs": [],
   "source": [
    "maths = (df_data.Maths>=30).value_counts()\n",
    "english = (df_data.English>=30).value_counts()\n",
    "physics = (df_data.Physics>=30).value_counts()\n",
    "cs = (df_data[\"Computer Science\"]>=30).value_counts()\n"
   ]
  },
  {
   "cell_type": "code",
   "execution_count": 660,
   "metadata": {},
   "outputs": [],
   "source": [
    "lst = [maths,english,physics,cs]\n",
    "lst_pass = [lst[x][1] for x in range(0,len(lst))]\n",
    "lst_fail = [lst[x][0] for x in range(0,len(lst))]"
   ]
  },
  {
   "cell_type": "code",
   "execution_count": 661,
   "metadata": {},
   "outputs": [],
   "source": [
    "total_data = pd.DataFrame([lst_pass,lst_fail])\n",
    "total_data = total_data.T\n",
    "total_data.columns = [\"Pass\",\"Fail\"]\n",
    "total_data.index = df_data.columns[3:]\n",
    "\n"
   ]
  },
  {
   "cell_type": "code",
   "execution_count": 662,
   "metadata": {},
   "outputs": [
    {
     "name": "stdout",
     "output_type": "stream",
     "text": [
      "[115, 65, 124, 56, 133, 47, 117, 63]\n"
     ]
    },
    {
     "data": {
      "text/plain": [
       "<Figure size 1200x800 with 0 Axes>"
      ]
     },
     "metadata": {},
     "output_type": "display_data"
    },
    {
     "data": {
      "image/png": "[encoded data removed]",
      "text/plain": [
       "<Figure size 640x480 with 1 Axes>"
      ]
     },
     "metadata": {},
     "output_type": "display_data"
    }
   ],
   "source": [
    "lst_labels = []\n",
    "\n",
    "for i in total_data.iterrows():\n",
    "    lst_labels.append(i[1][0])\n",
    "    lst_labels.append(i[1][1])\n",
    "\n",
    "plt.figure(figsize=(12, 8))\n",
    "ax = total_data.plot(kind=\"bar\")\n",
    "ax.set_xlabel(\"Subject\")\n",
    "ax.set_ylabel(\"Count\")\n",
    "rects = ax.patches\n",
    "\n",
    "print(lst_labels)\n",
    "# Make some labels.\n",
    "label = lst_labels\n",
    "ax.bar_label(ax.containers[0], label_type='edge')\n",
    "ax.bar_label(ax.containers[1], label_type='edge')\n",
    "\n",
    "plt.show()"
   ]
  },
  {
   "cell_type": "code",
   "execution_count": 663,
   "metadata": {},
   "outputs": [
    {
     "data": {
      "text/plain": [
       "Index(['Maths', 'English', 'Physics', 'Computer Science'], dtype='object')"
      ]
     },
     "execution_count": 663,
     "metadata": {},
     "output_type": "execute_result"
    }
   ],
   "source": [
    "df_data.drop(\"ID\", axis=1, inplace=True)\n",
    "df_data.columns[2:]"
   ]
  },
  {
   "cell_type": "code",
   "execution_count": 664,
   "metadata": {},
   "outputs": [],
   "source": [
    "results = df_data.groupby([\"Semester \",\"Name\"])"
   ]
  },
  {
   "cell_type": "code",
   "execution_count": 844,
   "metadata": {},
   "outputs": [],
   "source": [
    "def calculate_score(sem_num):\n",
    "   \n",
    "    maths = df_data[(df_data[\"Semester \"]==sem_num) & (df_data[\"Maths\"]>=30)]\n",
    "    english = df_data[(df_data[\"Semester \"]==sem_num) & (df_data[\"English\"]>=30)]\n",
    "    physics = df_data[(df_data[\"Semester \"]==sem_num) & (df_data[\"Physics\"]>=30)]\n",
    "    cs = df_data[(df_data[\"Semester \"]==sem_num) & (df_data[\"Computer Science\"]>=30)]\n",
    "            \n",
    "    \n",
    "    return maths, english, physics, cs"
   ]
  },
  {
   "cell_type": "code",
   "execution_count": 847,
   "metadata": {},
   "outputs": [
    {
     "name": "stdout",
     "output_type": "stream",
     "text": [
      "37\n"
     ]
    }
   ],
   "source": [
    "maths_sem1, english_sem1, physics_sem1, cs_sem1 = calculate_score(1)\n",
    "maths_sem2, english_sem2, physics_sem2, cs_sem2 = calculate_score(2)\n",
    "maths_sem3, english_sem3, physics_sem3, cs_sem3 = calculate_score(3)\n",
    "print(len(maths_sem1[\"Maths\"]))"
   ]
  },
  {
   "cell_type": "code",
   "execution_count": 711,
   "metadata": {},
   "outputs": [],
   "source": [
    "result_1 = [maths_sem1, english_sem1, physics_sem1, cs_sem1]\n",
    "result_2=[maths_sem2, english_sem2, physics_sem2, cs_sem2]\n",
    "result_3= [maths_sem3, english_sem3, physics_sem3, cs_sem3]\n",
    "sem1_pass = [x[1] for x in result_1]\n",
    "sem2_pass = [x[1] for x in result_2]\n",
    "sem3_pass = [x[1] for x in result_3]\n",
    "sem1_fail = [x[0] for x in result_1]\n",
    "sem2_fail = [x[0] for x in result_2]\n",
    "sem3_fail = [x[0] for x in result_3]"
   ]
  },
  {
   "cell_type": "code",
   "execution_count": 721,
   "metadata": {},
   "outputs": [
    {
     "data": {
      "image/png": "[encoded data removed]",
      "text/plain": [
       "<Figure size 640x480 with 1 Axes>"
      ]
     },
     "metadata": {},
     "output_type": "display_data"
    }
   ],
   "source": [
    "cols = [\"PASS\",\"FAIL\"]\n",
    "sem_1 = pd.DataFrame([sem1_pass,sem1_fail]).T\n",
    "sem_1.columns =cols\n",
    "ax = sem_1.plot(kind = \"bar\")\n",
    "for i in range(len(cols)):\n",
    "    ax.bar_label(ax.containers[i],label_type=\"edge\")\n"
   ]
  },
  {
   "cell_type": "code",
   "execution_count": 722,
   "metadata": {},
   "outputs": [
    {
     "data": {
      "image/png": "[encoded data removed]",
      "text/plain": [
       "<Figure size 640x480 with 1 Axes>"
      ]
     },
     "metadata": {},
     "output_type": "display_data"
    }
   ],
   "source": [
    "cols = [\"PASS\",\"FAIL\"]\n",
    "sem_1 = pd.DataFrame([sem2_pass,sem2_fail]).T\n",
    "sem_1.columns =cols\n",
    "ax = sem_1.plot(kind = \"bar\")\n",
    "for i in range(len(cols)):\n",
    "    ax.bar_label(ax.containers[i],label_type=\"edge\")"
   ]
  },
  {
   "cell_type": "code",
   "execution_count": null,
   "metadata": {},
   "outputs": [],
   "source": []
  }
 ],
 "metadata": {
  "kernelspec": {
   "display_name": "base",
   "language": "python",
   "name": "python3"
  },
  "language_info": {
   "codemirror_mode": {
    "name": "ipython",
    "version": 3
   },
   "file_extension": ".py",
   "mimetype": "text/x-python",
   "name": "python",
   "nbconvert_exporter": "python",
   "pygments_lexer": "ipython3",
   "version": "3.9.13"
  },
  "orig_nbformat": 4,
  "vscode": {
   "interpreter": {
    "hash": "6c8bba455a7feb147c1b819904f421622a91439fb3eef54aa64f69d8c0f43250"
   }
  }
 },
 "nbformat": 4,
 "nbformat_minor": 2
}
